{
  "nbformat": 4,
  "nbformat_minor": 0,
  "metadata": {
    "colab": {
      "name": "Untitled5.ipynb",
      "provenance": [],
      "collapsed_sections": []
    },
    "kernelspec": {
      "name": "python3",
      "display_name": "Python 3"
    },
    "language_info": {
      "name": "python"
    }
  },
  "cells": [
    {
      "cell_type": "code",
      "metadata": {
        "id": "fiKfdhLrKgPx"
      },
      "source": [
        "import random\n",
        "import math\n",
        "#random number between 0 and 1\n",
        "\n",
        "def rndNum():\n",
        "  return random.random()\n",
        "\n",
        "#Exponention distribution for job arrival\n",
        "\n",
        "def expDis(mean):\n",
        "  return (-mean * math.log10(rndNum()))\n",
        "\n",
        "\n"
      ],
      "execution_count": 87,
      "outputs": []
    },
    {
      "cell_type": "code",
      "metadata": {
        "id": "195miM9_QZVK"
      },
      "source": [
        "class Server:\n",
        "  def __init__(self):\n",
        "    self.free = True\n",
        "    self.task = 0\n",
        "    self.timeRemaining = 0\n",
        "    self.tick = 0\n",
        "  \n",
        "  def checkStatus(self):\n",
        "    return self.free\n",
        "  \n",
        "  def runJob(self, job):\n",
        "    self.task = job.getID()\n",
        "    self.timeRemaining = job.getRunLength()\n",
        "    self.free = False\n",
        "\n",
        "  def ticks(self):\n",
        "    self.tick += 1\n",
        "    if self.free == False:\n",
        "      self.timeRemaining -= 1\n",
        "      if self.timeRemaining == 0:\n",
        "        #print(\"Job\",self.task,\"finished\" )\n",
        "        self.task = 0\n",
        "        self.free = True \n",
        "    return self.free\n",
        "\n",
        "\n",
        "class Job:\n",
        "  def __init__(self, id, jobLength, startTick):\n",
        "    self.ID = id\n",
        "    self.jobLength = jobLength\n",
        "    self.startTick = startTick\n",
        "\n",
        "  def getStart(self):\n",
        "    return self.startTick\n",
        "\n",
        "  def getID(self):\n",
        "    return self.ID\n",
        "\n",
        "  def getRunLength(self):\n",
        "    return self.jobLength\n",
        "\n"
      ],
      "execution_count": 88,
      "outputs": []
    },
    {
      "cell_type": "code",
      "metadata": {
        "id": "U1HmnOMPNScI"
      },
      "source": [
        "def simulate(mean):\n",
        "\n",
        "  avgJobsInSys = 0\n",
        "  avgJobsInQueue = 0\n",
        "  avgWaitTime = 0\n",
        "  avgWaitNo = 0\n",
        "\n",
        "  iter = 100000\n",
        "  server = Server()\n",
        "  jobOn = 1\n",
        "  tick = 0\n",
        "  mean = mean\n",
        "  nextJobIn = round(expDis(1)*100)\n",
        "  queue = []\n",
        "\n",
        "  for i in range(iter):\n",
        "    tick += 1\n",
        "    nextJobIn -= 1\n",
        "    status = server.ticks()\n",
        "    #print(\"Tick:\",tick)\n",
        "\n",
        "    if status and len(queue) > 0:\n",
        "      nextJob = queue[0]\n",
        "      queue.remove(nextJob)\n",
        "      #print(\"Job\",nextJob.getID(),\"ran at:\", tick)\n",
        "      avgWaitTime += (tick - nextJob.getStart())\n",
        "      avgWaitNo += 1\n",
        "      server.runJob(nextJob)\n",
        "\n",
        "\n",
        "    if nextJobIn <= 0:\n",
        "      newJob = Job(jobOn, round(expDis(mean)*100)+1, tick)\n",
        "      #print(\"Job\",jobOn,\"Arrived at:\", tick,\" with length:\", newJob.getRunLength() )\n",
        "      jobOn += 1\n",
        "      if server.checkStatus():\n",
        "        #print(\"Job\",newJob.getID(),\"ran at:\", tick)\n",
        "        avgWaitNo += 1\n",
        "        server.runJob(newJob)\n",
        "      else:\n",
        "        queue.append(newJob)\n",
        "\n",
        "      nextJobIn = round(expDis(1)*100)\n",
        "    \n",
        "    if server.checkStatus():\n",
        "      avgJobsInSys += len(queue)\n",
        "    else:\n",
        "      avgJobsInSys += len(queue) + 1\n",
        "    \n",
        "    avgJobsInQueue += len(queue)\n",
        "\n",
        "  avgJobsInSys = avgJobsInSys/iter\n",
        "  avgJobsInQueue = avgJobsInQueue/iter\n",
        "  avgWaitTime = avgWaitTime/avgWaitNo\n",
        "\n",
        "  print(\"Mean:\", mean, \"Average Jobs in System:\", avgJobsInSys, \"Average Jobs in Queue:\", avgJobsInQueue, \"Average Wait Time:\", avgWaitTime)\n",
        "\n",
        "\n"
      ],
      "execution_count": 89,
      "outputs": []
    },
    {
      "cell_type": "code",
      "metadata": {
        "colab": {
          "base_uri": "https://localhost:8080/"
        },
        "id": "fxUxMsfQNeBx",
        "outputId": "f12123e6-30eb-47c4-e929-f666ec027f8a"
      },
      "source": [
        "means = [0.1,0.2,0.3,0.4,0.5,0.6,0.7,0.8,0.9]\n",
        "\n",
        "for j in means:\n",
        "  simulate(j)\n"
      ],
      "execution_count": 90,
      "outputs": [
        {
          "output_type": "stream",
          "name": "stdout",
          "text": [
            "Mean: 0.1 Average Jobs in System: 0.12985 Average Jobs in Queue: 0.01152 Average Wait Time: 0.5110913930789707\n",
            "Mean: 0.2 Average Jobs in System: 0.2695 Average Jobs in Queue: 0.05267 Average Wait Time: 2.3597670250896057\n",
            "Mean: 0.3 Average Jobs in System: 0.47426 Average Jobs in Queue: 0.14761 Average Wait Time: 6.340782122905028\n",
            "Mean: 0.4 Average Jobs in System: 0.88291 Average Jobs in Queue: 0.44753 Average Wait Time: 19.207296137339057\n",
            "Mean: 0.5 Average Jobs in System: 1.02387 Average Jobs in Queue: 0.52068 Average Wait Time: 22.54025974025974\n",
            "Mean: 0.6 Average Jobs in System: 1.50442 Average Jobs in Queue: 0.8805 Average Wait Time: 38.01813471502591\n",
            "Mean: 0.7 Average Jobs in System: 2.13447 Average Jobs in Queue: 1.44008 Average Wait Time: 64.14610244988864\n",
            "Mean: 0.8 Average Jobs in System: 3.12445 Average Jobs in Queue: 2.35121 Average Wait Time: 106.92178262846748\n",
            "Mean: 0.9 Average Jobs in System: 20.37217 Average Jobs in Queue: 19.41587 Average Wait Time: 842.2835622507754\n"
          ]
        }
      ]
    },
    {
      "cell_type": "code",
      "metadata": {
        "id": "wMzkq1i1t3lh"
      },
      "source": [
        ""
      ],
      "execution_count": 90,
      "outputs": []
    }
  ]
}